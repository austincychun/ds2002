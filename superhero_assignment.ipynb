{
  "cells": [
    {
      "cell_type": "markdown",
      "metadata": {
        "id": "view-in-github",
        "colab_type": "text"
      },
      "source": [
        "<a href=\"https://colab.research.google.com/github/austincychun/ds2002/blob/main/superhero_assignment.ipynb\" target=\"_parent\"><img src=\"https://colab.research.google.com/assets/colab-badge.svg\" alt=\"Open In Colab\"/></a>"
      ]
    },
    {
      "cell_type": "markdown",
      "id": "5fa8dcf6",
      "metadata": {
        "id": "5fa8dcf6"
      },
      "source": [
        "# Superhero Database Assignment (SQLite & Google Colab)\n",
        "\n",
        "## Objective\n",
        "In this assignment, you will design and implement a **Superhero Database** using SQLite in Google Colab. This database will store superheroes, villains, and their battles. You will write SQL queries to analyze battle outcomes and relationships between heroes and villains.\n",
        "\n",
        "### Group Size:\n",
        "- 2 to 3 students per group.\n",
        "\n",
        "### Tools Required:\n",
        "- **Google Colab**\n",
        "- **SQLite (built into Python)**\n",
        "- **CSV files (provided for import)**"
      ]
    },
    {
      "cell_type": "markdown",
      "id": "5535e625",
      "metadata": {
        "id": "5535e625"
      },
      "source": [
        "## Step 1: Setting Up Your SQLite Database\n",
        "\n",
        "### Tasks:\n",
        "1. Initialize SQLite in Google Colab.\n",
        "2. Create a database named `superhero_db.sqlite`.\n",
        "3. Define the database schema, ensuring it includes the following tables:\n",
        "   - `heroes`: Stores superhero names, powers, and teams.\n",
        "   - `villains`: Stores villains and their evil plans.\n",
        "   - `battles`: Tracks battles between heroes and villains, including the outcome.\n",
        "4. Implement primary keys and foreign keys where appropriate.\n",
        "\n",
        "✅ **Checkpoint:** Ensure that the database and tables have been successfully created."
      ]
    },
    {
      "cell_type": "code",
      "source": [
        "import sqlite3\n",
        "conn = sqlite3.connect('superhero_db.sqlite')\n",
        "cursor = conn.cursor()"
      ],
      "metadata": {
        "id": "DkzKZ0rqvnH7"
      },
      "id": "DkzKZ0rqvnH7",
      "execution_count": 1,
      "outputs": []
    },
    {
      "cell_type": "code",
      "source": [
        "cursor.execute(\"DROP TABLE IF EXISTS heroes;\")\n",
        "cursor.execute('''\n",
        "CREATE TABLE heroes (\n",
        "    id INTEGER PRIMARY KEY AUTOINCREMENT,\n",
        "    name TEXT NOT NULL,\n",
        "    power TEXT,\n",
        "    team TEXT\n",
        ");\n",
        "''')\n",
        "conn.commit()\n",
        "\n",
        "\n",
        "cursor.execute(\"DROP TABLE IF EXISTS villains;\")\n",
        "cursor.execute('''\n",
        "CREATE TABLE villains (\n",
        "    id INTEGER PRIMARY KEY AUTOINCREMENT,\n",
        "    name TEXT NOT NULL,\n",
        "    evil_plan TEXT\n",
        ");\n",
        "''')\n",
        "cursor.execute(\"DROP TABLE IF EXISTS battles;\")\n",
        "cursor.execute('''\n",
        "CREATE TABLE battles (\n",
        "    id INTEGER PRIMARY KEY AUTOINCREMENT,\n",
        "    hero_id INTEGER,\n",
        "    villain_id INTEGER,\n",
        "    outcome TEXT,\n",
        "    FOREIGN KEY(hero_id) REFERENCES heroes(id),\n",
        "    FOREIGN KEY(villain_id) REFERENCES villains(id)\n",
        ");\n",
        "''')\n",
        "conn.commit()\n"
      ],
      "metadata": {
        "id": "gvbQb7HlvtLj"
      },
      "id": "gvbQb7HlvtLj",
      "execution_count": 27,
      "outputs": []
    },
    {
      "cell_type": "code",
      "source": [
        "cursor.execute(\"SELECT name FROM sqlite_master WHERE type='table';\")\n",
        "print(cursor.fetchall())\n"
      ],
      "metadata": {
        "id": "BDNwE5eUwJlZ",
        "outputId": "4820a9bb-c303-4fba-c4cb-3ae502966ded",
        "colab": {
          "base_uri": "https://localhost:8080/"
        }
      },
      "id": "BDNwE5eUwJlZ",
      "execution_count": 6,
      "outputs": [
        {
          "output_type": "stream",
          "name": "stdout",
          "text": [
            "[('heroes',), ('sqlite_sequence',), ('villains',), ('battles',)]\n"
          ]
        }
      ]
    },
    {
      "cell_type": "markdown",
      "id": "154b3c3a",
      "metadata": {
        "id": "154b3c3a"
      },
      "source": [
        "## Step 2: Import Data from CSV Files\n",
        "\n",
        "### Tasks:\n",
        "1. Download the provided CSV files.\n",
        "2. Upload them to Google Colab.\n",
        "3. Write a script to import data from these files into the appropriate tables.\n",
        "4. Verify that the data has been successfully inserted.\n",
        "\n",
        "✅ **Checkpoint:** Ensure that each table contains the expected data from the CSV files."
      ]
    },
    {
      "cell_type": "code",
      "source": [
        "from google.colab import files\n",
        "uploaded = files.upload()"
      ],
      "metadata": {
        "id": "GAFBlNgwwu8E",
        "outputId": "8b1afae8-97cf-43cc-e8c8-0d93b78a9be3",
        "colab": {
          "base_uri": "https://localhost:8080/",
          "height": 144
        }
      },
      "id": "GAFBlNgwwu8E",
      "execution_count": 17,
      "outputs": [
        {
          "output_type": "display_data",
          "data": {
            "text/plain": [
              "<IPython.core.display.HTML object>"
            ],
            "text/html": [
              "\n",
              "     <input type=\"file\" id=\"files-bb9ed9c7-163e-4cc5-a713-39cb619f5f7b\" name=\"files[]\" multiple disabled\n",
              "        style=\"border:none\" />\n",
              "     <output id=\"result-bb9ed9c7-163e-4cc5-a713-39cb619f5f7b\">\n",
              "      Upload widget is only available when the cell has been executed in the\n",
              "      current browser session. Please rerun this cell to enable.\n",
              "      </output>\n",
              "      <script>// Copyright 2017 Google LLC\n",
              "//\n",
              "// Licensed under the Apache License, Version 2.0 (the \"License\");\n",
              "// you may not use this file except in compliance with the License.\n",
              "// You may obtain a copy of the License at\n",
              "//\n",
              "//      http://www.apache.org/licenses/LICENSE-2.0\n",
              "//\n",
              "// Unless required by applicable law or agreed to in writing, software\n",
              "// distributed under the License is distributed on an \"AS IS\" BASIS,\n",
              "// WITHOUT WARRANTIES OR CONDITIONS OF ANY KIND, either express or implied.\n",
              "// See the License for the specific language governing permissions and\n",
              "// limitations under the License.\n",
              "\n",
              "/**\n",
              " * @fileoverview Helpers for google.colab Python module.\n",
              " */\n",
              "(function(scope) {\n",
              "function span(text, styleAttributes = {}) {\n",
              "  const element = document.createElement('span');\n",
              "  element.textContent = text;\n",
              "  for (const key of Object.keys(styleAttributes)) {\n",
              "    element.style[key] = styleAttributes[key];\n",
              "  }\n",
              "  return element;\n",
              "}\n",
              "\n",
              "// Max number of bytes which will be uploaded at a time.\n",
              "const MAX_PAYLOAD_SIZE = 100 * 1024;\n",
              "\n",
              "function _uploadFiles(inputId, outputId) {\n",
              "  const steps = uploadFilesStep(inputId, outputId);\n",
              "  const outputElement = document.getElementById(outputId);\n",
              "  // Cache steps on the outputElement to make it available for the next call\n",
              "  // to uploadFilesContinue from Python.\n",
              "  outputElement.steps = steps;\n",
              "\n",
              "  return _uploadFilesContinue(outputId);\n",
              "}\n",
              "\n",
              "// This is roughly an async generator (not supported in the browser yet),\n",
              "// where there are multiple asynchronous steps and the Python side is going\n",
              "// to poll for completion of each step.\n",
              "// This uses a Promise to block the python side on completion of each step,\n",
              "// then passes the result of the previous step as the input to the next step.\n",
              "function _uploadFilesContinue(outputId) {\n",
              "  const outputElement = document.getElementById(outputId);\n",
              "  const steps = outputElement.steps;\n",
              "\n",
              "  const next = steps.next(outputElement.lastPromiseValue);\n",
              "  return Promise.resolve(next.value.promise).then((value) => {\n",
              "    // Cache the last promise value to make it available to the next\n",
              "    // step of the generator.\n",
              "    outputElement.lastPromiseValue = value;\n",
              "    return next.value.response;\n",
              "  });\n",
              "}\n",
              "\n",
              "/**\n",
              " * Generator function which is called between each async step of the upload\n",
              " * process.\n",
              " * @param {string} inputId Element ID of the input file picker element.\n",
              " * @param {string} outputId Element ID of the output display.\n",
              " * @return {!Iterable<!Object>} Iterable of next steps.\n",
              " */\n",
              "function* uploadFilesStep(inputId, outputId) {\n",
              "  const inputElement = document.getElementById(inputId);\n",
              "  inputElement.disabled = false;\n",
              "\n",
              "  const outputElement = document.getElementById(outputId);\n",
              "  outputElement.innerHTML = '';\n",
              "\n",
              "  const pickedPromise = new Promise((resolve) => {\n",
              "    inputElement.addEventListener('change', (e) => {\n",
              "      resolve(e.target.files);\n",
              "    });\n",
              "  });\n",
              "\n",
              "  const cancel = document.createElement('button');\n",
              "  inputElement.parentElement.appendChild(cancel);\n",
              "  cancel.textContent = 'Cancel upload';\n",
              "  const cancelPromise = new Promise((resolve) => {\n",
              "    cancel.onclick = () => {\n",
              "      resolve(null);\n",
              "    };\n",
              "  });\n",
              "\n",
              "  // Wait for the user to pick the files.\n",
              "  const files = yield {\n",
              "    promise: Promise.race([pickedPromise, cancelPromise]),\n",
              "    response: {\n",
              "      action: 'starting',\n",
              "    }\n",
              "  };\n",
              "\n",
              "  cancel.remove();\n",
              "\n",
              "  // Disable the input element since further picks are not allowed.\n",
              "  inputElement.disabled = true;\n",
              "\n",
              "  if (!files) {\n",
              "    return {\n",
              "      response: {\n",
              "        action: 'complete',\n",
              "      }\n",
              "    };\n",
              "  }\n",
              "\n",
              "  for (const file of files) {\n",
              "    const li = document.createElement('li');\n",
              "    li.append(span(file.name, {fontWeight: 'bold'}));\n",
              "    li.append(span(\n",
              "        `(${file.type || 'n/a'}) - ${file.size} bytes, ` +\n",
              "        `last modified: ${\n",
              "            file.lastModifiedDate ? file.lastModifiedDate.toLocaleDateString() :\n",
              "                                    'n/a'} - `));\n",
              "    const percent = span('0% done');\n",
              "    li.appendChild(percent);\n",
              "\n",
              "    outputElement.appendChild(li);\n",
              "\n",
              "    const fileDataPromise = new Promise((resolve) => {\n",
              "      const reader = new FileReader();\n",
              "      reader.onload = (e) => {\n",
              "        resolve(e.target.result);\n",
              "      };\n",
              "      reader.readAsArrayBuffer(file);\n",
              "    });\n",
              "    // Wait for the data to be ready.\n",
              "    let fileData = yield {\n",
              "      promise: fileDataPromise,\n",
              "      response: {\n",
              "        action: 'continue',\n",
              "      }\n",
              "    };\n",
              "\n",
              "    // Use a chunked sending to avoid message size limits. See b/62115660.\n",
              "    let position = 0;\n",
              "    do {\n",
              "      const length = Math.min(fileData.byteLength - position, MAX_PAYLOAD_SIZE);\n",
              "      const chunk = new Uint8Array(fileData, position, length);\n",
              "      position += length;\n",
              "\n",
              "      const base64 = btoa(String.fromCharCode.apply(null, chunk));\n",
              "      yield {\n",
              "        response: {\n",
              "          action: 'append',\n",
              "          file: file.name,\n",
              "          data: base64,\n",
              "        },\n",
              "      };\n",
              "\n",
              "      let percentDone = fileData.byteLength === 0 ?\n",
              "          100 :\n",
              "          Math.round((position / fileData.byteLength) * 100);\n",
              "      percent.textContent = `${percentDone}% done`;\n",
              "\n",
              "    } while (position < fileData.byteLength);\n",
              "  }\n",
              "\n",
              "  // All done.\n",
              "  yield {\n",
              "    response: {\n",
              "      action: 'complete',\n",
              "    }\n",
              "  };\n",
              "}\n",
              "\n",
              "scope.google = scope.google || {};\n",
              "scope.google.colab = scope.google.colab || {};\n",
              "scope.google.colab._files = {\n",
              "  _uploadFiles,\n",
              "  _uploadFilesContinue,\n",
              "};\n",
              "})(self);\n",
              "</script> "
            ]
          },
          "metadata": {}
        },
        {
          "output_type": "stream",
          "name": "stdout",
          "text": [
            "Saving battles.csv to battles (1).csv\n",
            "Saving heroes.csv to heroes (1).csv\n",
            "Saving villains.csv to villains (3).csv\n"
          ]
        }
      ]
    },
    {
      "cell_type": "code",
      "source": [
        "import pandas as pd\n",
        "\n",
        "# Load heroes.csv and insert into heroes table\n",
        "heroes_df = pd.read_csv('heroes.csv')\n",
        "heroes_df.to_sql('heroes', conn, if_exists='append', index=False)\n",
        "\n",
        "# Load villains.csv and insert into villains table\n",
        "villains_df = pd.read_csv('villains.csv')\n",
        "villains_df.to_sql('villains', conn, if_exists='append', index=False)\n",
        "\n",
        "# Load battles.csv and insert into battles table\n",
        "battles_df = pd.read_csv('battles.csv')\n",
        "battles_df.to_sql('battles', conn, if_exists='append', index=False)\n"
      ],
      "metadata": {
        "id": "d8QofkQQxC1p",
        "outputId": "4023ce2c-dddc-4b33-fc8e-322cc41da0dc",
        "colab": {
          "base_uri": "https://localhost:8080/"
        }
      },
      "id": "d8QofkQQxC1p",
      "execution_count": 28,
      "outputs": [
        {
          "output_type": "execute_result",
          "data": {
            "text/plain": [
              "30"
            ]
          },
          "metadata": {},
          "execution_count": 28
        }
      ]
    },
    {
      "cell_type": "code",
      "source": [
        "cursor.execute(\"SELECT * FROM heroes;\")\n",
        "print(cursor.fetchall())\n",
        "\n",
        "cursor.execute(\"SELECT * FROM villains;\")\n",
        "print(cursor.fetchall())\n",
        "\n",
        "cursor.execute(\"SELECT * FROM battles;\")\n",
        "print(cursor.fetchall())\n"
      ],
      "metadata": {
        "id": "ExskaNijyPeP",
        "outputId": "07bbd01a-723b-4035-acf9-8d6672999d82",
        "colab": {
          "base_uri": "https://localhost:8080/"
        }
      },
      "id": "ExskaNijyPeP",
      "execution_count": 23,
      "outputs": [
        {
          "output_type": "stream",
          "name": "stdout",
          "text": [
            "[(1, 'Spider-Man', 'Web-slinging', 'Avengers'), (2, 'Iron Man', 'Powered Armor', 'Avengers'), (3, 'Batman', 'Genius Detective', 'Justice League'), (4, 'Superman', 'Super Strength', 'Justice League'), (5, 'Thor', 'God of Thunder', 'Avengers'), (6, 'Wonder Woman', 'Amazonian Strength', 'Justice League'), (7, 'Black Panther', 'Enhanced Agility', 'Avengers'), (8, 'The Flash', 'Super Speed', 'Justice League'), (9, 'Hulk', 'Super Strength', 'Avengers'), (10, 'Doctor Strange', 'Mystic Arts', 'Avengers')]\n",
            "[(1, 'Green Goblin', 'Terrorize New York'), (2, 'Thanos', 'Collect all Infinity Stones'), (3, 'Joker', 'Spread chaos in Gotham'), (4, 'Lex Luthor', 'Defeat Superman'), (5, 'Loki', 'Trick humanity into worshiping him'), (6, 'Ultron', 'AI world domination'), (7, 'Darkseid', 'Control the universe'), (8, 'Venom', 'Consume Spider-Man'), (9, 'Magneto', 'Mutant supremacy'), (10, 'Red Skull', 'Revive Hydra')]\n",
            "[(1, 1, 10, 'Villain Wins'), (2, 9, 3, 'Hero Wins'), (3, 8, 1, 'Draw'), (4, 5, 4, 'Villain Wins'), (5, 1, 7, 'Hero Wins'), (6, 2, 8, 'Villain Wins'), (7, 9, 8, 'Hero Wins'), (8, 3, 2, 'Hero Wins'), (9, 7, 5, 'Hero Wins'), (10, 3, 1, 'Draw'), (11, 1, 8, 'Villain Wins'), (12, 2, 1, 'Draw'), (13, 8, 9, 'Hero Wins'), (14, 8, 1, 'Draw'), (15, 6, 10, 'Draw'), (16, 1, 1, 'Villain Wins'), (17, 8, 3, 'Draw'), (18, 6, 3, 'Villain Wins'), (19, 4, 8, 'Villain Wins'), (20, 3, 4, 'Hero Wins'), (21, 8, 1, 'Draw'), (22, 4, 9, 'Draw'), (23, 3, 9, 'Draw'), (24, 8, 9, 'Villain Wins'), (25, 2, 5, 'Draw'), (26, 3, 7, 'Draw'), (27, 10, 3, 'Draw'), (28, 3, 8, 'Draw'), (29, 3, 5, 'Hero Wins'), (30, 5, 5, 'Hero Wins')]\n"
          ]
        }
      ]
    },
    {
      "cell_type": "markdown",
      "id": "33548d9f",
      "metadata": {
        "id": "33548d9f"
      },
      "source": [
        "## Step 3: Querying the Database\n",
        "\n",
        "### Tasks:\n",
        "Write SQL queries to answer the following:\n",
        "1. Retrieve all superheroes and their powers.\n",
        "2. Find all battles where the hero won.\n",
        "3. List all villains and their evil plans.\n",
        "4. Determine which superhero has fought the most battles.\n",
        "\n",
        "✅ **Checkpoint:** Ensure that all queries return meaningful results from the database."
      ]
    },
    {
      "cell_type": "code",
      "source": [
        "cursor.execute(\"SELECT name, power FROM heroes;\")\n",
        "print(cursor.fetchall())\n",
        "cursor.execute(\"SELECT * FROM battles WHERE outcome = 'Hero Wins';\")\n",
        "print(cursor.fetchall())\n",
        "cursor.execute(\"SELECT name, evil_plan FROM villains;\")\n",
        "print(cursor.fetchall())\n",
        "cursor.execute('''\n",
        "    SELECT h.name, COUNT(b.id) AS battle_count\n",
        "    FROM battles b\n",
        "    JOIN heroes h ON b.hero_id = h.id\n",
        "    GROUP BY h.name\n",
        "    ORDER BY battle_count DESC\n",
        "    LIMIT 1;\n",
        "''')\n",
        "print(cursor.fetchall())\n"
      ],
      "metadata": {
        "id": "aAz0q876yTIz",
        "outputId": "005d34ce-9838-45e5-c319-109056db070a",
        "colab": {
          "base_uri": "https://localhost:8080/"
        }
      },
      "id": "aAz0q876yTIz",
      "execution_count": 32,
      "outputs": [
        {
          "output_type": "stream",
          "name": "stdout",
          "text": [
            "[('Spider-Man', 'Web-slinging'), ('Iron Man', 'Powered Armor'), ('Batman', 'Genius Detective'), ('Superman', 'Super Strength'), ('Thor', 'God of Thunder'), ('Wonder Woman', 'Amazonian Strength'), ('Black Panther', 'Enhanced Agility'), ('The Flash', 'Super Speed'), ('Hulk', 'Super Strength'), ('Doctor Strange', 'Mystic Arts')]\n",
            "[(2, 9, 3, 'Hero Wins'), (5, 1, 7, 'Hero Wins'), (7, 9, 8, 'Hero Wins'), (8, 3, 2, 'Hero Wins'), (9, 7, 5, 'Hero Wins'), (13, 8, 9, 'Hero Wins'), (20, 3, 4, 'Hero Wins'), (29, 3, 5, 'Hero Wins'), (30, 5, 5, 'Hero Wins')]\n",
            "[('Green Goblin', 'Terrorize New York'), ('Thanos', 'Collect all Infinity Stones'), ('Joker', 'Spread chaos in Gotham'), ('Lex Luthor', 'Defeat Superman'), ('Loki', 'Trick humanity into worshiping him'), ('Ultron', 'AI world domination'), ('Darkseid', 'Control the universe'), ('Venom', 'Consume Spider-Man'), ('Magneto', 'Mutant supremacy'), ('Red Skull', 'Revive Hydra')]\n",
            "[('Batman', 7)]\n"
          ]
        }
      ]
    },
    {
      "cell_type": "markdown",
      "id": "de8bda94",
      "metadata": {
        "id": "de8bda94"
      },
      "source": [
        "## Step 4: Add a Custom Feature\n",
        "\n",
        "### Tasks:\n",
        "1. Design and implement an additional table related to superheroes or villains.\n",
        "2. Populate it with data.\n",
        "3. Write at least one query to retrieve meaningful insights from the new table.\n",
        "\n",
        "**Examples of Custom Features:**\n",
        "- Sidekicks for superheroes\n",
        "- Villain hideouts\n",
        "- Battle locations\n",
        "- Superhero equipment\n",
        "\n",
        "✅ **Checkpoint:** Ensure that the new table and queries function correctly."
      ]
    },
    {
      "cell_type": "code",
      "source": [
        "cursor.execute(\"DROP TABLE IF EXISTS sidekicks;\")\n",
        "cursor.execute('''\n",
        "    CREATE TABLE sidekicks (\n",
        "        id INTEGER PRIMARY KEY AUTOINCREMENT,\n",
        "        hero_id INTEGER,\n",
        "        name TEXT NOT NULL,\n",
        "        FOREIGN KEY(hero_id) REFERENCES heroes(id)\n",
        "    );\n",
        "''')\n",
        "conn.commit()\n"
      ],
      "metadata": {
        "id": "twcGb47j0TxL"
      },
      "id": "twcGb47j0TxL",
      "execution_count": 35,
      "outputs": []
    },
    {
      "cell_type": "code",
      "source": [
        "sidekicks_data = [\n",
        "    (1, 'Robin'),\n",
        "    (2, 'Bucky Barnes'),\n",
        "    (3, 'War Machine')\n",
        "]\n",
        "\n",
        "cursor.executemany('''\n",
        "    INSERT INTO sidekicks (hero_id, name) VALUES (?, ?);\n",
        "''', sidekicks_data)\n",
        "\n",
        "conn.commit()\n"
      ],
      "metadata": {
        "id": "3dmYnQkF0483"
      },
      "id": "3dmYnQkF0483",
      "execution_count": 36,
      "outputs": []
    },
    {
      "cell_type": "code",
      "source": [
        "cursor.execute('''\n",
        "    SELECT h.name AS hero_name, s.name AS sidekick_name\n",
        "    FROM sidekicks s\n",
        "    JOIN heroes h ON s.hero_id = h.id;\n",
        "''')\n",
        "print(cursor.fetchall())\n"
      ],
      "metadata": {
        "id": "RMiN1Oe_06Vp",
        "outputId": "89ebd716-8cd6-4b69-f55f-fd86a01c24e7",
        "colab": {
          "base_uri": "https://localhost:8080/"
        }
      },
      "id": "RMiN1Oe_06Vp",
      "execution_count": 37,
      "outputs": [
        {
          "output_type": "stream",
          "name": "stdout",
          "text": [
            "[('Spider-Man', 'Robin'), ('Iron Man', 'Bucky Barnes'), ('Batman', 'War Machine')]\n"
          ]
        }
      ]
    },
    {
      "cell_type": "code",
      "source": [
        "conn.close()"
      ],
      "metadata": {
        "id": "tI2_YlcF0_sM"
      },
      "id": "tI2_YlcF0_sM",
      "execution_count": 39,
      "outputs": []
    },
    {
      "cell_type": "markdown",
      "id": "9bf43fe6",
      "metadata": {
        "id": "9bf43fe6"
      },
      "source": [
        "## Bonus Challenge (+5 Points)\n",
        "\n",
        "### Tasks:\n",
        "1. Enhance your project by adding a visual or interactive component.\n",
        "\n",
        "**Options:**\n",
        "- Visualize battles using Matplotlib (e.g., a bar chart showing how many battles each superhero has fought).\n",
        "- Make it interactive (e.g., allow users to input a superhero name and display their battles).\n",
        "\n",
        "✅ **Checkpoint:** If attempting the bonus, ensure that your visualization or interactive component works correctly."
      ]
    },
    {
      "cell_type": "markdown",
      "id": "89f56c05",
      "metadata": {
        "id": "89f56c05"
      },
      "source": [
        "## Submission Guidelines\n",
        "\n",
        "Each group must submit a **Google Colab Notebook (.ipynb)** containing:\n",
        "- ✅ **Database schema (DDL)**\n",
        "- ✅ **CSV imports & data insertion (DML)**\n",
        "- ✅ **SQL queries & results**\n",
        "- ✅ **Custom feature (bonus if applicable)**"
      ]
    },
    {
      "cell_type": "markdown",
      "id": "61477c9b",
      "metadata": {
        "id": "61477c9b"
      },
      "source": [
        "## Grading Criteria (Total: 25 Points)\n",
        "\n",
        "| Section                 | Points |\n",
        "|-------------------------|--------|\n",
        "| Database Setup          | 5      |\n",
        "| Data Importing         | 10     |\n",
        "| Querying the Data      | 10     |\n",
        "| Extra Feature          | 5      |\n",
        "| Bonus Challenge (Optional) | +5  |"
      ]
    },
    {
      "cell_type": "markdown",
      "id": "92bf6839",
      "metadata": {
        "id": "92bf6839"
      },
      "source": [
        "### Final Notes:\n",
        "- Be **creative** when designing superheroes and villains.\n",
        "- **Comment your code** to explain its functionality.\n",
        "- **Have fun** building your superhero universe!"
      ]
    }
  ],
  "metadata": {
    "colab": {
      "provenance": [],
      "include_colab_link": true
    },
    "language_info": {
      "name": "python"
    },
    "kernelspec": {
      "name": "python3",
      "display_name": "Python 3"
    }
  },
  "nbformat": 4,
  "nbformat_minor": 5
}