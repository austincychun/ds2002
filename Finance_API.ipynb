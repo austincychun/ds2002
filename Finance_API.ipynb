{
  "nbformat": 4,
  "nbformat_minor": 0,
  "metadata": {
    "colab": {
      "provenance": [],
      "authorship_tag": "ABX9TyPs95redqUUayov0DBjUTJ7",
      "include_colab_link": true
    },
    "kernelspec": {
      "name": "python3",
      "display_name": "Python 3"
    },
    "language_info": {
      "name": "python"
    }
  },
  "cells": [
    {
      "cell_type": "markdown",
      "metadata": {
        "id": "view-in-github",
        "colab_type": "text"
      },
      "source": [
        "<a href=\"https://colab.research.google.com/github/austincychun/ds2002/blob/main/Finance_API.ipynb\" target=\"_parent\"><img src=\"https://colab.research.google.com/assets/colab-badge.svg\" alt=\"Open In Colab\"/></a>"
      ]
    },
    {
      "cell_type": "code",
      "execution_count": 2,
      "metadata": {
        "colab": {
          "base_uri": "https://localhost:8080/"
        },
        "id": "w6ZCQey0jKbP",
        "outputId": "f46ced80-39c2-40f9-c2b3-77acda0f013b"
      },
      "outputs": [
        {
          "output_type": "stream",
          "name": "stdout",
          "text": [
            "Enter two or more stock symbols separated by commas: AAPl, MSFT\n",
            "Stock Ticker          Company Name  Current Market Price\n",
            "        AAPL            Apple Inc.                240.36\n",
            "        MSFT Microsoft Corporation                399.73\n",
            "\n",
            "Enter a stock symbol for additional data: AAPL\n",
            "Choose a metric: \n",
            "1. 52-Week High\n",
            "2. 52-Week Low\n",
            "3. Return on Assets (ROA)\n",
            "Enter 1, 2, or 3: 2\n",
            "\n",
            " {'Stock Ticker': 'AAPL', '2': 164.08}\n",
            "\n",
            "Fetching trending stocks...\n",
            "\n",
            "Stock Ticker          Company Name  Current Market Price  52-Week High  52-Week Low\n",
            "        AAPL            Apple Inc.                240.36        260.10      164.080\n",
            "        MSFT Microsoft Corporation                399.73        468.35      385.580\n",
            "        TSLA           Tesla, Inc.                290.80        488.54      138.800\n",
            "        NVDA    NVIDIA Corporation                131.28        153.13       75.606\n",
            "       GOOGL         Alphabet Inc.                172.73        207.05      130.670\n"
          ]
        }
      ],
      "source": [
        "import json\n",
        "import pandas as pd\n",
        "import requests\n",
        "\n",
        "# API key (do not share your key!)\n",
        "apikey = \"API_KEY\"  # Replace with your actual API key\n",
        "\n",
        "# Base URL for Yahoo Finance API\n",
        "yahoo_api_url = \"https://yfapi.net/v6/finance/quote\"\n",
        "\n",
        "#get stock from the user\n",
        "symbols = input(\"Enter two or more stock symbols separated by commas: \").upper().replace(\" \", \"\")\n",
        "\n",
        "def fetch_stock_data(symbols):\n",
        "    querystring = {\"symbols\": symbols}\n",
        "    headers = {\"x-api-key\": apikey}\n",
        "    response = requests.get(yahoo_api_url, headers=headers, params=querystring)\n",
        "    data = response.json().get(\"quoteResponse\", {}).get(\"result\", [])\n",
        "\n",
        "    stock_data = []\n",
        "    for stock in data:\n",
        "        stock_data.append({\n",
        "            \"Stock Ticker\": stock.get(\"symbol\", \"N/A\"),\n",
        "            \"Company Name\": stock.get(\"longName\", \"N/A\"),\n",
        "            \"Current Market Price\": stock.get(\"regularMarketPrice\", \"N/A\")\n",
        "        })\n",
        "    return pd.DataFrame(stock_data)\n",
        "\n",
        "stock_df = fetch_stock_data(symbols)\n",
        "print(stock_df.to_string(index=False))\n",
        "\n",
        "#get additional data\n",
        "symbol = input(\"\\nEnter a stock symbol for additional data: \").upper()\n",
        "print(\"Choose a metric: \\n1. 52-Week High\\n2. 52-Week Low\\n3. Return on Assets (ROA)\")\n",
        "metric_choice = input(\"Enter 1, 2, or 3: \")\n",
        "\n",
        "def fetch_additional_data(symbol, metric):\n",
        "    querystring = {\"symbols\": symbol}\n",
        "    headers = {\"x-api-key\": apikey}\n",
        "    response = requests.get(yahoo_api_url, headers=headers, params=querystring)\n",
        "    data = response.json().get(\"quoteResponse\", {}).get(\"result\", [{}])[0]\n",
        "\n",
        "    metrics_map = {\n",
        "        \"1\": \"fiftyTwoWeekHigh\",\n",
        "        \"2\": \"fiftyTwoWeekLow\",\n",
        "        \"3\": \"returnOnAssets\"\n",
        "    }\n",
        "\n",
        "    return {\"Stock Ticker\": symbol, metric: data.get(metrics_map.get(metric, \"N/A\"), \"N/A\")}\n",
        "\n",
        "if metric_choice in [\"1\", \"2\", \"3\"]:\n",
        "    additional_data = fetch_additional_data(symbol, metric_choice)\n",
        "    print(\"\\n\", additional_data)\n",
        "\n",
        "#fetch trending stocks\n",
        "def fetch_trending_stocks():\n",
        "    trending_symbols = \"AAPL,MSFT,TSLA,NVDA,GOOGL\"  # Simulated trending stocks\n",
        "    querystring = {\"symbols\": trending_symbols}\n",
        "    headers = {\"x-api-key\": apikey}\n",
        "    response = requests.get(yahoo_api_url, headers=headers, params=querystring)\n",
        "    data = response.json().get(\"quoteResponse\", {}).get(\"result\", [])\n",
        "\n",
        "    trending_data = []\n",
        "    for stock in data:\n",
        "        trending_data.append({\n",
        "            \"Stock Ticker\": stock.get(\"symbol\", \"N/A\"),\n",
        "            \"Company Name\": stock.get(\"longName\", \"N/A\"),\n",
        "            \"Current Market Price\": stock.get(\"regularMarketPrice\", \"N/A\"),\n",
        "            \"52-Week High\": stock.get(\"fiftyTwoWeekHigh\", \"N/A\"),\n",
        "            \"52-Week Low\": stock.get(\"fiftyTwoWeekLow\", \"N/A\")\n",
        "        })\n",
        "    return pd.DataFrame(trending_data)\n",
        "\n",
        "print(\"\\nFetching trending stocks...\\n\")\n",
        "trending_df = fetch_trending_stocks()\n",
        "print(trending_df.to_string(index=False))\n"
      ]
    }
  ]
}